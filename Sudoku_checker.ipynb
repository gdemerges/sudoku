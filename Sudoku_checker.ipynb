{
 "cells": [
  {
   "cell_type": "code",
   "execution_count": 1,
   "id": "61ac7ff5",
   "metadata": {},
   "outputs": [],
   "source": [
    "grille= [\n",
    "    [5, 3, 4, 6, 7, 8, 9, 1, 2],\n",
    "    [6, 7, 2, 1, 9, 5, 3, 4, 8],\n",
    "    [1, 9, 8, 3, 4, 2, 5, 6, 7],\n",
    "    [8, 5, 9, 7, 6, 1, 4, 2, 3],\n",
    "    [4, 2, 6, 8, 5, 3, 7, 9, 1],\n",
    "    [7, 1, 3, 9, 2, 4, 8, 5, 6],\n",
    "    [9, 6, 1, 5, 3, 7, 2, 8, 4],\n",
    "    [2, 8, 7, 4, 1, 9, 6, 3, 5],\n",
    "    [3, 4, 5, 2, 8, 6, 1, 7, 9]\n",
    "]"
   ]
  },
  {
   "cell_type": "code",
   "execution_count": 2,
   "id": "6d7e279e",
   "metadata": {},
   "outputs": [],
   "source": [
    "def ligne_verif(grille):\n",
    "    for ligne in grille:\n",
    "        if len(set(ligne)) != 9:\n",
    "            return False\n",
    "    return True"
   ]
  },
  {
   "cell_type": "code",
   "execution_count": 3,
   "id": "0ed27a49",
   "metadata": {},
   "outputs": [],
   "source": [
    "def colonne_verif(grille):\n",
    "    for col in range(9):\n",
    "        column = [grille[ligne][col] for ligne in range(9)]\n",
    "        if len(set(column)) != 9:\n",
    "            return False\n",
    "    return True"
   ]
  },
  {
   "cell_type": "code",
   "execution_count": 4,
   "id": "26ee4b23",
   "metadata": {},
   "outputs": [],
   "source": [
    "def carre_verif(grille):\n",
    "    for ligne_carre in range(0, 9, 3):\n",
    "        for colonne_carre in range(0, 9, 3):\n",
    "            carre = [grille[ligne][col] for ligne in range(ligne_carre, ligne_carre + 3) \n",
    "                                         for col in range(colonne_carre, colonne_carre + 3)]\n",
    "            if len(set(carre)) != 9:\n",
    "                return False\n",
    "    return True"
   ]
  },
  {
   "cell_type": "code",
   "execution_count": 5,
   "id": "03a1bf95",
   "metadata": {},
   "outputs": [],
   "source": [
    "def grille_check(grille):\n",
    "    return ligne_verif(grille) and colonne_verif(grille) and carre_verif(grille)"
   ]
  },
  {
   "cell_type": "code",
   "execution_count": 6,
   "id": "ecfcf57e",
   "metadata": {},
   "outputs": [
    {
     "name": "stdout",
     "output_type": "stream",
     "text": [
      "Sudoku valide.\n"
     ]
    }
   ],
   "source": [
    "if grille_check(grille):\n",
    "    print(\"Sudoku valide\")\n",
    "else:\n",
    "    print(\"Sudoku non valide\")"
   ]
  },
  {
   "cell_type": "code",
   "execution_count": null,
   "id": "bc5c6f0c",
   "metadata": {},
   "outputs": [],
   "source": []
  },
  {
   "cell_type": "code",
   "execution_count": null,
   "id": "5c5a675d",
   "metadata": {},
   "outputs": [],
   "source": []
  }
 ],
 "metadata": {
  "kernelspec": {
   "display_name": "Python 3 (ipykernel)",
   "language": "python",
   "name": "python3"
  },
  "language_info": {
   "codemirror_mode": {
    "name": "ipython",
    "version": 3
   },
   "file_extension": ".py",
   "mimetype": "text/x-python",
   "name": "python",
   "nbconvert_exporter": "python",
   "pygments_lexer": "ipython3",
   "version": "3.10.6"
  },
  "toc": {
   "base_numbering": 1,
   "nav_menu": {},
   "number_sections": true,
   "sideBar": true,
   "skip_h1_title": false,
   "title_cell": "Table of Contents",
   "title_sidebar": "Contents",
   "toc_cell": false,
   "toc_position": {},
   "toc_section_display": true,
   "toc_window_display": false
  }
 },
 "nbformat": 4,
 "nbformat_minor": 5
}
