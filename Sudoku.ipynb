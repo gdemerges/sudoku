{
 "cells": [
  {
   "cell_type": "code",
   "execution_count": 4,
   "id": "eea9ff23",
   "metadata": {},
   "outputs": [
    {
     "name": "stdout",
     "output_type": "stream",
     "text": [
      "Choisissez la difficulté de votre grille de Sudoku:\n",
      "1. Facile\n",
      "2. Moyenne\n",
      "3. Difficile\n",
      "Sudoku avant résolution:\n",
      "0 0 0 0 9 0 0 0 0 \n",
      "5 9 4 1 0 2 3 0 7 \n",
      "0 3 1 0 6 0 0 0 0 \n",
      "0 0 0 0 0 0 0 0 6 \n",
      "8 0 9 2 7 0 0 5 0 \n",
      "7 0 0 9 1 0 2 8 0 \n",
      "0 8 0 0 0 0 7 4 0 \n",
      "3 0 0 0 0 0 0 0 0 \n",
      "0 0 0 0 5 0 0 0 8 \n",
      "\n",
      "Sudoku résolu:\n",
      "6 7 8 3 9 5 4 2 1 \n",
      "5 9 4 1 8 2 3 6 7 \n",
      "2 3 1 4 6 7 8 9 5 \n",
      "1 2 3 5 4 8 9 7 6 \n",
      "8 4 9 2 7 6 1 5 3 \n",
      "7 5 6 9 1 3 2 8 4 \n",
      "9 8 5 6 3 1 7 4 2 \n",
      "3 6 7 8 2 4 5 1 9 \n",
      "4 1 2 7 5 9 6 3 8 \n"
     ]
    }
   ],
   "source": [
    "import sudoku\n",
    "\n",
    "sudoku.main()"
   ]
  }
 ],
 "metadata": {
  "kernelspec": {
   "display_name": "Python 3 (ipykernel)",
   "language": "python",
   "name": "python3"
  },
  "language_info": {
   "codemirror_mode": {
    "name": "ipython",
    "version": 3
   },
   "file_extension": ".py",
   "mimetype": "text/x-python",
   "name": "python",
   "nbconvert_exporter": "python",
   "pygments_lexer": "ipython3",
   "version": "3.10.6"
  },
  "toc": {
   "base_numbering": 1,
   "nav_menu": {},
   "number_sections": true,
   "sideBar": true,
   "skip_h1_title": false,
   "title_cell": "Table of Contents",
   "title_sidebar": "Contents",
   "toc_cell": false,
   "toc_position": {},
   "toc_section_display": true,
   "toc_window_display": false
  }
 },
 "nbformat": 4,
 "nbformat_minor": 5
}
