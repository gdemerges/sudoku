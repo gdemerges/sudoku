{
 "cells": [
  {
   "cell_type": "code",
   "execution_count": 2,
   "id": "eea9ff23",
   "metadata": {},
   "outputs": [
    {
     "name": "stdout",
     "output_type": "stream",
     "text": [
      "Choisissez la difficulté de votre grille de Sudoku:\n",
      "1. Facile\n",
      "2. Moyenne\n",
      "3. Difficile\n",
      "Sudoku avant résolution:\n",
      "0 0 0 0 5 0 2 0 0 \n",
      "7 0 2 1 8 3 0 0 0 \n",
      "0 0 0 0 0 0 8 0 7 \n",
      "0 0 0 8 9 5 0 0 0 \n",
      "0 9 5 0 7 0 1 2 0 \n",
      "3 6 7 0 0 1 0 0 9 \n",
      "0 0 0 4 0 0 0 6 0 \n",
      "2 0 0 0 0 0 0 0 0 \n",
      "5 4 1 0 0 0 0 0 0 \n",
      "\n",
      "Sudoku résolu:\n",
      "4 8 9 6 5 7 2 3 1 \n",
      "7 5 2 1 8 3 9 4 6 \n",
      "6 1 3 9 2 4 8 5 7 \n",
      "1 2 4 8 9 5 6 7 3 \n",
      "8 9 5 3 7 6 1 2 4 \n",
      "3 6 7 2 4 1 5 8 9 \n",
      "9 3 8 4 1 2 7 6 5 \n",
      "2 7 6 5 3 9 4 1 8 \n",
      "5 4 1 7 6 8 3 9 2 \n"
     ]
    }
   ],
   "source": [
    "import sudoku\n",
    "\n",
    "sudoku.main()"
   ]
  }
 ],
 "metadata": {
  "kernelspec": {
   "display_name": "Python 3 (ipykernel)",
   "language": "python",
   "name": "python3"
  },
  "language_info": {
   "codemirror_mode": {
    "name": "ipython",
    "version": 3
   },
   "file_extension": ".py",
   "mimetype": "text/x-python",
   "name": "python",
   "nbconvert_exporter": "python",
   "pygments_lexer": "ipython3",
   "version": "3.10.6"
  },
  "toc": {
   "base_numbering": 1,
   "nav_menu": {},
   "number_sections": true,
   "sideBar": true,
   "skip_h1_title": false,
   "title_cell": "Table of Contents",
   "title_sidebar": "Contents",
   "toc_cell": false,
   "toc_position": {},
   "toc_section_display": true,
   "toc_window_display": false
  }
 },
 "nbformat": 4,
 "nbformat_minor": 5
}
